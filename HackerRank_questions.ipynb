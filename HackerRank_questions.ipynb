{
 "cells": [
  {
   "cell_type": "markdown",
   "metadata": {},
   "source": [
    "QUESTION 1: \n",
    "For this question, you will write a program that, given a positive integer M and a list of integers L, outputs the list element M links away from the end of the list. For this program, we will use 1-indexing. That means mth_to_last(1) is the \"1st-to-last\" element, or simply the last element in the list.\n",
    "\n",
    "\n",
    "\n",
    "If you are given an invalid index, output NIL instead.\n",
    "\n",
    "Examples\n",
    "Input:\n",
    "\n",
    "4\n",
    "10 200 3 40000 5\n",
    "Output:\n",
    "\n",
    "200\n",
    "Input:\n",
    "\n",
    "2\n",
    "42\n",
    "Output:\n",
    "\n",
    "NIL"
   ]
  },
  {
   "cell_type": "code",
   "execution_count": 54,
   "metadata": {},
   "outputs": [
    {
     "name": "stdout",
     "output_type": "stream",
     "text": [
      "M = 3\n",
      "Enter list elements: 1 2 3 4 5 6\n",
      "The 3th element : 4\n",
      "---------------------------------------------------------------------------------------------------------------\n"
     ]
    }
   ],
   "source": [
    "M = int(input('M = ')) # Index number to be printed from behind\n",
    "L = input('Enter list elements: ') # Our list of integers\n",
    "L = L.split(' ') # To enter our multiples elements in the list with spaces in between.\n",
    "li=[] # To store out list elements as integers. \n",
    "for i in L:\n",
    "    li.append(int(i)) # SToring our list elements as integers into a new list 'li'\n",
    "li.reverse() # rversing our list. SO that we can grab the number according to the index value from behind. \n",
    "\n",
    "for j in range(len(li)):\n",
    "    if M > len(li): # For invalid inputs\n",
    "        print('NIL')\n",
    "        break  # helps to break the iteretion once out we got our output. \n",
    "    elif M < 0: # For invalid inputs\n",
    "        print('NIL')\n",
    "        break\n",
    "    elif M == j:\n",
    "        print('The %sth element : %s' %(M,li[j-1]))\n",
    "\n",
    "    \n",
    "    \n",
    "print('---------------------------------------------------------------------------------------------------------------')\n"
   ]
  },
  {
   "cell_type": "markdown",
   "metadata": {},
   "source": [
    "QUESTION 2: \n",
    "    \n",
    "For this question, you will write a program that generates values from the Fibonacci sequence. The Fibonnaci sequence is recursively defined by:\n",
    "\n",
    "Fn = Fn - 1 + Fn - 2\n",
    "\n",
    "Using the following seed values:\n",
    "\n",
    "F0 = 0, F1 = 1\n",
    "\n",
    "Given a number n, print the nth value of the Fibonacci sequence.\n",
    "\n",
    "Examples\n",
    "Input:\n",
    "\n",
    "12\n",
    "Output:\n",
    "\n",
    "144\n",
    "Input:\n",
    "\n",
    "30\n",
    "Output:\n",
    "\n",
    "832040"
   ]
  },
  {
   "cell_type": "code",
   "execution_count": 1,
   "metadata": {},
   "outputs": [
    {
     "name": "stdout",
     "output_type": "stream",
     "text": [
      "n = 10\n",
      "55\n",
      "[0, 1, 1, 2, 3, 5, 8, 13, 21, 34, 55, 89]\n",
      "---------------------------------------------------------------------------------------------------------------\n"
     ]
    }
   ],
   "source": [
    "n = int(input('n = '))\n",
    "L = [0,1]\n",
    "for i in range(0,n):\n",
    "    Fn = L[-1] + L[-2]  # COnsidering last 2 values\n",
    "    L.append(Fn)\n",
    "print(L[n])\n",
    "\n",
    "print(L)\n",
    "print('---------------------------------------------------------------------------------------------------------------')"
   ]
  },
  {
   "cell_type": "markdown",
   "metadata": {},
   "source": [
    "QUESTION 3:\n",
    "This question expands on our earlier Fibonacci Lite challenge. While the goal of Fibonacci Lite was to understand recursion, this challenge is about solving problems efficiently with dynamic programming.\n",
    "\n",
    "The difference in this challenge is that each test case will consist of many inputs instead of just one. Furthermore, we're allowing larger values of n. You'll need to use dynamic programming to solve all the inputs without running out of time.\n",
    "\n",
    "So, given many numbers n, print the nth value of the Fibonacci sequence for each of them, in order, on their own line.\n",
    "\n",
    "Here are the definitions of the sequence again:\n",
    "\n",
    "Fn = Fn - 1 + Fn - 2\n",
    "\n",
    "Using the following seed values:\n",
    "\n",
    "F0 = 0, F1 = 1\n",
    "\n",
    "Examples\n",
    "Input (one on each line rather than spaces):\n",
    "\n",
    "1\n",
    "2\n",
    "3\n",
    "4\n",
    "5\n",
    "6\n",
    "7\n",
    "8\n",
    "9\n",
    "10\n",
    "Output (one on each line rather than spaces):\n",
    "\n",
    "1\n",
    "1\n",
    "2\n",
    "3\n",
    "5\n",
    "8\n",
    "13\n",
    "21\n",
    "34\n",
    "55\t\n",
    "Input (one on each line rather than spaces):\n",
    "\n",
    "41\n",
    "8\n",
    "22\n",
    "Output (one on each line rather than spaces):\n",
    "\n",
    "165580141\n",
    "21\n",
    "17711\n",
    "   "
   ]
  },
  {
   "cell_type": "code",
   "execution_count": 13,
   "metadata": {},
   "outputs": [
    {
     "name": "stdout",
     "output_type": "stream",
     "text": [
      "n=5\n",
      "num = 2\n",
      "num = 3\n",
      "num = 6\n",
      "num = 4\n",
      "num = 8\n",
      "1\n",
      "2\n"
     ]
    },
    {
     "ename": "IndexError",
     "evalue": "list index out of range",
     "output_type": "error",
     "traceback": [
      "\u001b[1;31m---------------------------------------------------------------------------\u001b[0m",
      "\u001b[1;31mIndexError\u001b[0m                                Traceback (most recent call last)",
      "\u001b[1;32m<ipython-input-13-7afe74598f39>\u001b[0m in \u001b[0;36m<module>\u001b[1;34m\u001b[0m\n\u001b[0;32m     10\u001b[0m     \u001b[0mFn\u001b[0m \u001b[1;33m=\u001b[0m \u001b[0mL\u001b[0m\u001b[1;33m[\u001b[0m\u001b[1;33m-\u001b[0m\u001b[1;36m1\u001b[0m\u001b[1;33m]\u001b[0m \u001b[1;33m+\u001b[0m \u001b[0mL\u001b[0m\u001b[1;33m[\u001b[0m\u001b[1;33m-\u001b[0m\u001b[1;36m2\u001b[0m\u001b[1;33m]\u001b[0m\u001b[1;33m\u001b[0m\u001b[1;33m\u001b[0m\u001b[0m\n\u001b[0;32m     11\u001b[0m     \u001b[0mL\u001b[0m\u001b[1;33m.\u001b[0m\u001b[0mappend\u001b[0m\u001b[1;33m(\u001b[0m\u001b[0mFn\u001b[0m\u001b[1;33m)\u001b[0m\u001b[1;33m\u001b[0m\u001b[1;33m\u001b[0m\u001b[0m\n\u001b[1;32m---> 12\u001b[1;33m     \u001b[0mprint\u001b[0m\u001b[1;33m(\u001b[0m\u001b[0mL\u001b[0m\u001b[1;33m[\u001b[0m\u001b[0mj\u001b[0m\u001b[1;33m]\u001b[0m\u001b[1;33m)\u001b[0m\u001b[1;33m\u001b[0m\u001b[1;33m\u001b[0m\u001b[0m\n\u001b[0m\u001b[0;32m     13\u001b[0m \u001b[1;33m\u001b[0m\u001b[0m\n\u001b[0;32m     14\u001b[0m \u001b[1;33m\u001b[0m\u001b[0m\n",
      "\u001b[1;31mIndexError\u001b[0m: list index out of range"
     ]
    }
   ],
   "source": [
    "# no. of values in each test case\n",
    "n = int(input('n=')) # number of numbers in each test case\n",
    "L = [0,1] # Fibo sequence list\n",
    "val = [] # list of the 'number of numbers in each test case'\n",
    "for i in range(n):\n",
    "    num = int(input('num = '))\n",
    "    val.append(num)\n",
    "       \n",
    "for j in val:\n",
    "    Fn = L[-1] + L[-2] \n",
    "    L.append(Fn)\n",
    "    print(L[j])\n",
    "    \n",
    "    \n",
    "    "
   ]
  },
  {
   "cell_type": "code",
   "execution_count": 5,
   "metadata": {},
   "outputs": [],
   "source": [
    "def f(n):\n",
    "    L = [0,1] # Fibo sequence list\n",
    "    val = [] # list of the 'number of numbers in each test case'\n",
    "    for i in range(n):\n",
    "        num = int(input('num = '))\n",
    "        val.append(num)\n",
    "       \n",
    "    for j in val:\n",
    "        Fn = L[-1] + L[-2] \n",
    "        L.append(Fn)\n",
    "        print(L[j])\n",
    "    "
   ]
  },
  {
   "cell_type": "code",
   "execution_count": 12,
   "metadata": {},
   "outputs": [
    {
     "name": "stdout",
     "output_type": "stream",
     "text": [
      "num = 3\n",
      "num = 4\n",
      "num = 5\n",
      "num = 6\n"
     ]
    },
    {
     "ename": "IndexError",
     "evalue": "list index out of range",
     "output_type": "error",
     "traceback": [
      "\u001b[1;31m---------------------------------------------------------------------------\u001b[0m",
      "\u001b[1;31mIndexError\u001b[0m                                Traceback (most recent call last)",
      "\u001b[1;32m<ipython-input-12-255902b873a2>\u001b[0m in \u001b[0;36m<module>\u001b[1;34m\u001b[0m\n\u001b[1;32m----> 1\u001b[1;33m \u001b[0mf\u001b[0m\u001b[1;33m(\u001b[0m\u001b[1;36m4\u001b[0m\u001b[1;33m)\u001b[0m\u001b[1;33m\u001b[0m\u001b[1;33m\u001b[0m\u001b[0m\n\u001b[0m",
      "\u001b[1;32m<ipython-input-11-cc271351a3f5>\u001b[0m in \u001b[0;36mf\u001b[1;34m(n)\u001b[0m\n\u001b[0;32m      9\u001b[0m         \u001b[0mFn\u001b[0m \u001b[1;33m=\u001b[0m \u001b[0mL\u001b[0m\u001b[1;33m[\u001b[0m\u001b[1;33m-\u001b[0m\u001b[1;36m1\u001b[0m\u001b[1;33m]\u001b[0m \u001b[1;33m+\u001b[0m \u001b[0mL\u001b[0m\u001b[1;33m[\u001b[0m\u001b[1;33m-\u001b[0m\u001b[1;36m2\u001b[0m\u001b[1;33m]\u001b[0m\u001b[1;33m\u001b[0m\u001b[1;33m\u001b[0m\u001b[0m\n\u001b[0;32m     10\u001b[0m         \u001b[0mL\u001b[0m\u001b[1;33m.\u001b[0m\u001b[0mappend\u001b[0m\u001b[1;33m(\u001b[0m\u001b[0mFn\u001b[0m\u001b[1;33m)\u001b[0m\u001b[1;33m\u001b[0m\u001b[1;33m\u001b[0m\u001b[0m\n\u001b[1;32m---> 11\u001b[1;33m         \u001b[0mprint\u001b[0m\u001b[1;33m(\u001b[0m\u001b[0mL\u001b[0m\u001b[1;33m[\u001b[0m\u001b[0mj\u001b[0m\u001b[1;33m]\u001b[0m\u001b[1;33m)\u001b[0m\u001b[1;33m\u001b[0m\u001b[1;33m\u001b[0m\u001b[0m\n\u001b[0m",
      "\u001b[1;31mIndexError\u001b[0m: list index out of range"
     ]
    }
   ],
   "source": [
    "f(4)"
   ]
  },
  {
   "cell_type": "code",
   "execution_count": null,
   "metadata": {},
   "outputs": [],
   "source": []
  },
  {
   "cell_type": "markdown",
   "metadata": {},
   "source": [
    "QUESTION 4: \n",
    "Find the only uncoupled integer in an array.\n",
    "\n",
    "Problem Statement\n",
    "Write a program that, given a list of integers as an argument to STDIN\n",
    "\n",
    "n1, n2, n3, ..\n",
    "Prints out the only uncoupled (unpaired) integer in the list to STDOUT.\n",
    "\n",
    "Example 1:\n",
    "\n",
    "Given the input\n",
    "\n",
    "1, 2, 3, 1, 2\n",
    "your program should output:\n",
    "\n",
    "3\n",
    "Example 2:\n",
    "\n",
    "Given the input\n",
    "\n",
    "1, 2, 3, 4, 5, 99, 1, 2, 3, 4, 5\n",
    "your program should output:\n",
    "\n",
    "99"
   ]
  },
  {
   "cell_type": "code",
   "execution_count": 15,
   "metadata": {},
   "outputs": [
    {
     "name": "stdout",
     "output_type": "stream",
     "text": [
      "1,2,3,5,32,5,4,2,1\n",
      "[3, 32, 4]\n"
     ]
    }
   ],
   "source": [
    "Result=[]\n",
    "L = input()\n",
    "L = L.split(',')\n",
    "I = []\n",
    "for i in L:\n",
    "    I.append(int(i))\n",
    "for n in range(len(I)):\n",
    "    for k in range(len(I)):\n",
    "        if n==k:\n",
    "            pass\n",
    "        else:\n",
    "            if I[n]==I[k]:\n",
    "                Result.append(I[n])\n",
    "            else:\n",
    "                pass\n",
    "\n",
    "for num1 in Result:\n",
    "    for num2 in I:\n",
    "        if num1==num2:\n",
    "            I.remove(num2)\n",
    "        \n",
    "            \n",
    "print(I)\n",
    "                      \n",
    "\n"
   ]
  },
  {
   "cell_type": "markdown",
   "metadata": {},
   "source": [
    "QUESTION 5:\n",
    "    \n",
    "You are in charge of the cake for your niece's birthday and have decided the cake will have one candle for each year of her total age. When she blows out the candles, she’ll only be able to blow out the tallest ones. Your task is to find out how many candles she can successfully blow out.\n",
    "\n",
    "For example, if your niece is turning  years old, and the cake will have  candles of height , , , , she will be able to blow out  candles successfully, since the tallest candles are of height  and there are  such candles.\n",
    "\n",
    "Function Description\n",
    "\n",
    "Complete the function birthdayCakeCandles in the editor below. It must return an integer representing the number of candles she can blow out.\n",
    "\n",
    "birthdayCakeCandles has the following parameter(s):\n",
    "\n",
    "ar: an array of integers representing candle heights\n",
    "Input Format\n",
    "\n",
    "The first line contains a single integer, , denoting the number of candles on the cake. \n",
    "The second line contains  space-separated integers, where each integer  describes the height of candle .\n",
    "\n",
    "Constraints\n",
    "\n",
    "Output Format\n",
    "\n",
    "Return the number of candles that can be blown out on a new line.\n",
    "\n",
    "Sample Input 0\n",
    "\n",
    "4\n",
    "3 2 1 3\n",
    "Sample Output 0\n",
    "\n",
    "2\n",
    "Explanation 0\n",
    "\n",
    "We have one candle of height , one candle of height , and two candles of height . Your niece only blows out the tallest candles, meaning the candles where . Because there are  such candles, we print  on a new line."
   ]
  },
  {
   "cell_type": "code",
   "execution_count": 25,
   "metadata": {},
   "outputs": [
    {
     "name": "stdout",
     "output_type": "stream",
     "text": [
      "5\n",
      "2 4 4 4\n"
     ]
    },
    {
     "data": {
      "text/plain": [
       "3"
      ]
     },
     "execution_count": 25,
     "metadata": {},
     "output_type": "execute_result"
    }
   ],
   "source": [
    "def birthdayCakeCandles():\n",
    "    n = int(input()) \n",
    "    L = input()\n",
    "    L = L.split(' ')\n",
    "    ar = []\n",
    "    count = 0\n",
    "    for n in L:\n",
    "        ar.append(int(n)) \n",
    "    for i in ar:\n",
    "        if i==max(ar):\n",
    "            count += 1\n",
    "        else:\n",
    "            pass\n",
    "    return count\n",
    "\n",
    "birthdayCakeCandles()\n",
    "\n",
    "    "
   ]
  },
  {
   "cell_type": "code",
   "execution_count": 21,
   "metadata": {},
   "outputs": [
    {
     "name": "stdout",
     "output_type": "stream",
     "text": [
      "2 4 2 4\n"
     ]
    },
    {
     "data": {
      "text/plain": [
       "2"
      ]
     },
     "execution_count": 21,
     "metadata": {},
     "output_type": "execute_result"
    }
   ],
   "source": [
    "birthdayCakeCandles(4)"
   ]
  },
  {
   "cell_type": "code",
   "execution_count": 18,
   "metadata": {},
   "outputs": [
    {
     "name": "stdout",
     "output_type": "stream",
     "text": [
      "3 4 5 6\n"
     ]
    }
   ],
   "source": []
  },
  {
   "cell_type": "code",
   "execution_count": 19,
   "metadata": {},
   "outputs": [
    {
     "name": "stdout",
     "output_type": "stream",
     "text": [
      "2\n"
     ]
    },
    {
     "data": {
      "text/plain": [
       "1"
      ]
     },
     "execution_count": 19,
     "metadata": {},
     "output_type": "execute_result"
    }
   ],
   "source": [
    "birthdayCakeCandles()"
   ]
  },
  {
   "cell_type": "code",
   "execution_count": null,
   "metadata": {},
   "outputs": [],
   "source": []
  }
 ],
 "metadata": {
  "kernelspec": {
   "display_name": "Python 3",
   "language": "python",
   "name": "python3"
  },
  "language_info": {
   "codemirror_mode": {
    "name": "ipython",
    "version": 3
   },
   "file_extension": ".py",
   "mimetype": "text/x-python",
   "name": "python",
   "nbconvert_exporter": "python",
   "pygments_lexer": "ipython3",
   "version": "3.7.3"
  }
 },
 "nbformat": 4,
 "nbformat_minor": 2
}
